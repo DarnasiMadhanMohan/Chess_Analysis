{
 "cells": [
  {
   "cell_type": "code",
   "execution_count": 3,
   "metadata": {},
   "outputs": [
    {
     "name": "stdout",
     "output_type": "stream",
     "text": [
      "CSV file 'D:\\DataScience\\Chess_Analysis\\test.csv' created successfully.\n"
     ]
    }
   ],
   "source": [
    "import json\n",
    "import csv\n",
    "import os\n",
    "\n",
    "# Specify the directory containing JSON files\n",
    "json_directory = 'D:\\\\DataScience\\\\Chess_Analysis\\\\test'\n",
    "\n",
    "# Specify the output CSV file\n",
    "output_csv = 'D:\\\\DataScience\\\\Chess_Analysis\\\\test.csv'\n",
    "\n",
    "# Initialize a list to hold the data\n",
    "data = []\n",
    "\n",
    "# Loop through each JSON file in the directory\n",
    "for file_name in os.listdir(json_directory):\n",
    "    if file_name.endswith('.json'):\n",
    "        file_path = os.path.join(json_directory, file_name)\n",
    "        with open(file_path, 'r', encoding='utf-8') as json_file:  # Specify utf-8 encoding\n",
    "            try:\n",
    "                # Load the JSON data\n",
    "                json_data = json.load(json_file)\n",
    "                data.append(json_data)\n",
    "            except json.JSONDecodeError as e:\n",
    "                print(f\"Error decoding JSON from file {file_name}: {e}\")\n",
    "\n",
    "# Check if we have any data\n",
    "if data:\n",
    "    # Extract the header from the first JSON object\n",
    "    keys = data[0].keys()\n",
    "\n",
    "    # Write the data to a CSV file\n",
    "    with open(output_csv, 'w', newline='', encoding='utf-8') as csv_file:  # Specify utf-8 encoding\n",
    "        dict_writer = csv.DictWriter(csv_file, fieldnames=keys)\n",
    "        dict_writer.writeheader()\n",
    "        dict_writer.writerows(data)\n",
    "\n",
    "    print(f\"CSV file '{output_csv}' created successfully.\")\n",
    "else:\n",
    "    print(\"No JSON files found or the files are empty.\")\n"
   ]
  }
 ],
 "metadata": {
  "kernelspec": {
   "display_name": "Python 3",
   "language": "python",
   "name": "python3"
  },
  "language_info": {
   "codemirror_mode": {
    "name": "ipython",
    "version": 3
   },
   "file_extension": ".py",
   "mimetype": "text/x-python",
   "name": "python",
   "nbconvert_exporter": "python",
   "pygments_lexer": "ipython3",
   "version": "3.11.5"
  }
 },
 "nbformat": 4,
 "nbformat_minor": 2
}
